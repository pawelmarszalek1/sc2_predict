{
 "cells": [
  {
   "cell_type": "code",
   "execution_count": 1,
   "id": "48bc19b3",
   "metadata": {},
   "outputs": [],
   "source": [
    "import requests\n",
    "import pandas as pd\n",
    "import json\n",
    "import itertools"
   ]
  },
  {
   "cell_type": "code",
   "execution_count": 2,
   "id": "3772f952",
   "metadata": {},
   "outputs": [],
   "source": [
    "API_KEY = \"ejCxSDJxfBi4THMKcw5e\"  \n",
    "params = { \n",
    "        'apikey': API_KEY,\n",
    "        'current_rating__decay__lt': '4',\n",
    "        'order_by': '-current_rating__rating',\n",
    "        'format': 'json',\n",
    "        'limit': 30\n",
    "         } \n"
   ]
  },
  {
   "cell_type": "code",
   "execution_count": 3,
   "id": "c7182eb1",
   "metadata": {},
   "outputs": [],
   "source": [
    "response = requests.get('http://aligulac.com/api/v1/player/', params=params) \n",
    "data = response.json()"
   ]
  },
  {
   "cell_type": "code",
   "execution_count": 4,
   "id": "4ec951d9",
   "metadata": {},
   "outputs": [],
   "source": [
    "players = data['objects']\n",
    "df_players = pd.DataFrame(players)"
   ]
  },
  {
   "cell_type": "code",
   "execution_count": 5,
   "id": "3968d72a",
   "metadata": {},
   "outputs": [],
   "source": [
    "df_players['rating'] = df_players['current_rating'].str['rating']\n",
    "df_players['vProtoss'] = df_players['current_rating'].str['tot_vp']\n",
    "df_players['vTerran'] = df_players['current_rating'].str['tot_vt']\n",
    "df_players['vZerg'] = df_players['current_rating'].str['tot_vz']\n"
   ]
  },
  {
   "cell_type": "code",
   "execution_count": 6,
   "id": "1bfb654f",
   "metadata": {},
   "outputs": [],
   "source": [
    "df=df_players.drop(columns=['birthday','country','romanized_name','dom_end','dom_start',\n",
    "                         'current_teams','aliases','lp_name','mcnum','sc2e_id','name',\n",
    "                         'total_earnings','resource_uri','tlpd_id','tlpd_db','past_teams',\n",
    "                         'resource_uri','current_rating','dom_val'])"
   ]
  },
  {
   "cell_type": "code",
   "execution_count": null,
   "id": "13ec7393",
   "metadata": {},
   "outputs": [],
   "source": [
    "# Konwersja ratingu Aligulac (skala ok. 2.5-3.0) na bardziej czytelną skalę (np. 3500-4000)\n",
    "a = 1000.9197397008222\n",
    "b = 997.3905539423292\n",
    "df['rating'] = round((a * df['rating'] + b),0)\n",
    "df['vProtoss'] = round((a * df['vProtoss'] + b),0)\n",
    "df['vTerran'] = round((a * df['vTerran'] + b),0)\n",
    "df['vZerg'] = round((a * df['vZerg'] + b),0)"
   ]
  },
  {
   "cell_type": "code",
   "execution_count": 8,
   "id": "714bd131",
   "metadata": {},
   "outputs": [
    {
     "name": "stderr",
     "output_type": "stream",
     "text": [
      "C:\\Users\\s-a49\\AppData\\Local\\Temp\\ipykernel_18372\\2766011006.py:1: FutureWarning: Downcasting behavior in `replace` is deprecated and will be removed in a future version. To retain the old behavior, explicitly call `result.infer_objects(copy=False)`. To opt-in to the future behavior, set `pd.set_option('future.no_silent_downcasting', True)`\n",
      "  df['race'] = df['race'].replace({'Z': 0,\n"
     ]
    }
   ],
   "source": [
    "df['race'] = df['race'].replace({'Z': 0,\n",
    "                                 \"T\":1,\n",
    "                                 \"P\":2})"
   ]
  },
  {
   "cell_type": "code",
   "execution_count": 9,
   "id": "427ed3af",
   "metadata": {},
   "outputs": [],
   "source": [
    "ids = df['id'].tolist()\n",
    "pairs = list(itertools.permutations(ids, 2))"
   ]
  },
  {
   "cell_type": "code",
   "execution_count": 10,
   "id": "8f47da9f",
   "metadata": {},
   "outputs": [],
   "source": [
    "base = 'http://aligulac.com/api/v1/match/'\n",
    "params = {\n",
    "    \"apikey\": API_KEY,\n",
    "    \"pla__in\": \"485,5878\",\n",
    "    \"plb__in\": \"485,5878\",\n",
    "    \"limit\": 5\n",
    "}\n",
    "\n",
    "\n",
    "m_response = requests.get(base, params=params)\n",
    "m_data = m_response.json()"
   ]
  },
  {
   "cell_type": "code",
   "execution_count": 11,
   "id": "4a6800b7",
   "metadata": {},
   "outputs": [],
   "source": [
    "matches = m_data['objects']\n",
    "mdf = pd.DataFrame(matches)"
   ]
  },
  {
   "cell_type": "code",
   "execution_count": null,
   "id": "8d535525",
   "metadata": {},
   "outputs": [
    {
     "data": {
      "text/plain": [
       "'\\nimport time\\n\\nall_matches_df_list = []\\nbase_url = \\'http://aligulac.com/api/v1/match/\\'\\napi_params = {\\n    \"apikey\": API_KEY,\\n    \"limit\": 0 # Ustawienie limitu na 0 oznacza pobranie wszystkich rekordów\\n}\\n\\n# Możesz zmniejszyć liczbę par na początek, żeby przetestować kod\\n# np. dla pierwszych 20 par: for pair in pairs[:20]:\\nfor pair in pairs:\\n    player_a_id, player_b_id = pair\\n    \\n    # Przygotuj parametry zapytania dla konkretnej pary\\n    api_params[\\'pla__in\\'] = f\"{player_a_id},{player_b_id}\"\\n    api_params[\\'plb__in\\'] = f\"{player_a_id},{player_b_id}\"\\n    \\n    try:\\n        response = requests.get(base_url, params=api_params)\\n        response.raise_for_status() # Sprawdź, czy zapytanie się powiodło\\n        \\n        data = response.json()\\n        matches = data[\\'objects\\']\\n        \\n        if matches: # Jeśli znaleziono jakiekolwiek mecze\\n            temp_df = pd.DataFrame(matches)\\n            all_matches_df_list.append(temp_df)\\n            \\n        print(f\"Pobrano mecze dla pary: {player_a_id} vs {player_b_id}\")\\n\\n    except requests.exceptions.RequestException as e:\\n        print(f\"Błąd podczas pobierania danych dla pary {pair}: {e}\")\\n\\n    # Bądź miły dla API - dodaj pauzę\\n    time.sleep(0.5)\\n\\n# Połącz wszystkie ramki danych w jedną\\nif all_matches_df_list:\\n    final_matches_df = pd.concat(all_matches_df_list, ignore_index=True)\\n    print(\"Zakończono pobieranie. Stworzono finalną ramkę danych.\")\\n    # Zapisz do pliku, żeby nie pobierać za każdym razem\\n    final_matches_df.to_csv(\"all_matches.csv\", index=False)\\nelse:\\n    print(\"Nie znaleziono żadnych meczów dla podanych par.\")\\n'"
      ]
     },
     "execution_count": 12,
     "metadata": {},
     "output_type": "execute_result"
    }
   ],
   "source": [
    "\"\"\"\n",
    "import time\n",
    "\n",
    "all_matches_df_list = []\n",
    "base_url = 'http://aligulac.com/api/v1/match/'\n",
    "api_params = {\n",
    "    \"apikey\": API_KEY,\n",
    "    \"limit\": 0 # Ustawienie limitu na 0 oznacza pobranie wszystkich rekordów\n",
    "}\n",
    "\n",
    "# Możesz zmniejszyć liczbę par na początek, żeby przetestować kod\n",
    "# np. dla pierwszych 20 par: for pair in pairs[:20]:\n",
    "for pair in pairs:\n",
    "    player_a_id, player_b_id = pair\n",
    "    \n",
    "    # Przygotuj parametry zapytania dla konkretnej pary\n",
    "    api_params['pla__in'] = f\"{player_a_id},{player_b_id}\"\n",
    "    api_params['plb__in'] = f\"{player_a_id},{player_b_id}\"\n",
    "    \n",
    "    try:\n",
    "        response = requests.get(base_url, params=api_params)\n",
    "        response.raise_for_status() # Sprawdź, czy zapytanie się powiodło\n",
    "        \n",
    "        data = response.json()\n",
    "        matches = data['objects']\n",
    "        \n",
    "        if matches: # Jeśli znaleziono jakiekolwiek mecze\n",
    "            temp_df = pd.DataFrame(matches)\n",
    "            all_matches_df_list.append(temp_df)\n",
    "            \n",
    "        print(f\"Pobrano mecze dla pary: {player_a_id} vs {player_b_id}\")\n",
    "\n",
    "    except requests.exceptions.RequestException as e:\n",
    "        print(f\"Błąd podczas pobierania danych dla pary {pair}: {e}\")\n",
    "\n",
    "    # pauza dla api\n",
    "    time.sleep(0.5)\n",
    "\n",
    "# Połącz wszystkie ramki danych w jedną\n",
    "if all_matches_df_list:\n",
    "    final_matches_df = pd.concat(all_matches_df_list, ignore_index=True)\n",
    "    print(\"Zakończono pobieranie. Stworzono finalną ramkę danych.\")\n",
    "    # Zapisz do pliku, żeby nie pobierać za każdym razem\n",
    "    final_matches_df.to_csv(\"./data/raw/all_matches.csv\", index=False)\n",
    "else:\n",
    "    print(\"Nie znaleziono żadnych meczów dla podanych par.\")\n",
    "\"\"\""
   ]
  },
  {
   "cell_type": "code",
   "execution_count": 13,
   "id": "7842c504",
   "metadata": {},
   "outputs": [
    {
     "data": {
      "text/plain": [
       "<bound method NDFrame.head of              date event                                           eventobj  \\\n",
       "0      2023-12-17   NaN  {'fullname': 'ESL Pro Tour 2023/24 SC2 Masters...   \n",
       "1      2025-01-25   NaN  {'fullname': 'LiuLi Cup 2024 Grand Finals Main...   \n",
       "2      2021-08-15   NaN  {'fullname': 'ESL Pro Tour 2021/22 DH SC2 Mast...   \n",
       "3      2019-05-17   NaN  {'fullname': 'WCS 2019 Spring Main Tournament ...   \n",
       "4      2022-10-11   NaN  {'fullname': 'ESL Pro Tour 2022/23 DH SC2 Mast...   \n",
       "...           ...   ...                                                ...   \n",
       "30555  2025-07-05   NaN  {'fullname': 'FEL 2025 Cracov Qualifier #1 LB ...   \n",
       "30556  2023-12-09   NaN  {'fullname': 'SC2Online OSC Masters Cup #148 M...   \n",
       "30557  2025-07-27   NaN  {'fullname': 'FEL 2025 Cracov Main Event LB Ro...   \n",
       "30558  2021-01-23   NaN  {'fullname': 'Cheeseadelphia Winter Championsh...   \n",
       "30559  2023-11-07   NaN  {'fullname': 'WardiTV 2023 Series Open Novembe...   \n",
       "\n",
       "       game      id  offline  \\\n",
       "0      LotV  452881     True   \n",
       "1      LotV  473920    False   \n",
       "2      LotV  392760    False   \n",
       "3      LotV  310756     True   \n",
       "4      LotV  423599    False   \n",
       "...     ...     ...      ...   \n",
       "30555  LotV  482421    False   \n",
       "30556  LotV  452326    False   \n",
       "30557  LotV  482976     True   \n",
       "30558  LotV  373563    False   \n",
       "30559  LotV  450260    False   \n",
       "\n",
       "                                                     pla  \\\n",
       "0      {'country': 'FR', 'id': 5878, 'race': 'T', 're...   \n",
       "1      {'country': 'FI', 'id': 485, 'race': 'Z', 'res...   \n",
       "2      {'country': 'FI', 'id': 485, 'race': 'Z', 'res...   \n",
       "3      {'country': 'FI', 'id': 485, 'race': 'Z', 'res...   \n",
       "4      {'country': 'FI', 'id': 485, 'race': 'Z', 'res...   \n",
       "...                                                  ...   \n",
       "30555  {'country': 'PL', 'id': 14887, 'race': 'P', 'r...   \n",
       "30556  {'country': 'KR', 'id': 110, 'race': 'P', 'res...   \n",
       "30557  {'country': 'PL', 'id': 8913, 'race': 'P', 're...   \n",
       "30558  {'country': 'KR', 'id': 110, 'race': 'P', 'res...   \n",
       "30559  {'country': 'PL', 'id': 8913, 'race': 'P', 're...   \n",
       "\n",
       "                                                     plb rca rcb  \\\n",
       "0      {'country': 'FI', 'id': 485, 'race': 'Z', 'res...   T   Z   \n",
       "1      {'country': 'FR', 'id': 5878, 'race': 'T', 're...   Z   T   \n",
       "2      {'country': 'FR', 'id': 5878, 'race': 'T', 're...   Z   T   \n",
       "3      {'country': 'FR', 'id': 5878, 'race': 'T', 're...   Z   T   \n",
       "4      {'country': 'FR', 'id': 5878, 'race': 'T', 're...   Z   T   \n",
       "...                                                  ...  ..  ..   \n",
       "30555  {'country': 'KR', 'id': 110, 'race': 'P', 'res...   P   P   \n",
       "30556  {'country': 'PL', 'id': 14887, 'race': 'P', 'r...   P   P   \n",
       "30557  {'country': 'KR', 'id': 110, 'race': 'P', 'res...   P   P   \n",
       "30558  {'country': 'PL', 'id': 8913, 'race': 'P', 're...   P   P   \n",
       "30559  {'country': 'KR', 'id': 110, 'race': 'P', 'res...   P   P   \n",
       "\n",
       "                resource_uri  \\\n",
       "0      /api/v1/match/452881/   \n",
       "1      /api/v1/match/473920/   \n",
       "2      /api/v1/match/392760/   \n",
       "3      /api/v1/match/310756/   \n",
       "4      /api/v1/match/423599/   \n",
       "...                      ...   \n",
       "30555  /api/v1/match/482421/   \n",
       "30556  /api/v1/match/452326/   \n",
       "30557  /api/v1/match/482976/   \n",
       "30558  /api/v1/match/373563/   \n",
       "30559  /api/v1/match/450260/   \n",
       "\n",
       "                                                     rta  \\\n",
       "0      {'decay': 0, 'dev': 0.0702217126668418, 'dev_v...   \n",
       "1      {'decay': 0, 'dev': 0.0936552902980403, 'dev_v...   \n",
       "2      {'decay': 0, 'dev': 0.11268374277312, 'dev_vp'...   \n",
       "3      {'decay': 0, 'dev': 0.078536597469805, 'dev_vp...   \n",
       "4      {'decay': 0, 'dev': 0.0924126594744766, 'dev_v...   \n",
       "...                                                  ...   \n",
       "30555  {'decay': 0, 'dev': 0.0796756727085408, 'dev_v...   \n",
       "30556  {'decay': 0, 'dev': 0.08045700482033, 'dev_vp'...   \n",
       "30557  {'decay': 0, 'dev': 0.0734055162048132, 'dev_v...   \n",
       "30558  {'decay': 1, 'dev': 0.10849874992904, 'dev_vp'...   \n",
       "30559  {'decay': 0, 'dev': 0.0657215031072889, 'dev_v...   \n",
       "\n",
       "                                                     rtb  sca  scb  treated  \n",
       "0      {'decay': 0, 'dev': 0.0819425378669093, 'dev_v...    3    1     True  \n",
       "1      {'decay': 0, 'dev': 0.0696930565755874, 'dev_v...    2    3     True  \n",
       "2      {'decay': 0, 'dev': 0.0786558146335471, 'dev_v...    1    4     True  \n",
       "3      {'decay': 0, 'dev': 0.0712631294222908, 'dev_v...    2    1     True  \n",
       "4      {'decay': 0, 'dev': 0.0728103220395189, 'dev_v...    3    1     True  \n",
       "...                                                  ...  ...  ...      ...  \n",
       "30555  {'decay': 0, 'dev': 0.0814231143082631, 'dev_v...    0    3     True  \n",
       "30556  {'decay': 0, 'dev': 0.08144086875537, 'dev_vp'...    1    2     True  \n",
       "30557  {'decay': 1, 'dev': 0.101474155422398, 'dev_vp...    3    2     True  \n",
       "30558  {'decay': 0, 'dev': 0.0706105025583704, 'dev_v...    2    0     True  \n",
       "30559  {'decay': 0, 'dev': 0.0914239353637053, 'dev_v...    0    2     True  \n",
       "\n",
       "[30560 rows x 16 columns]>"
      ]
     },
     "execution_count": 13,
     "metadata": {},
     "output_type": "execute_result"
    }
   ],
   "source": [
    "all_matches = pd.read_csv(\"all_matches.csv\")\n",
    "\n",
    "all_matches.head"
   ]
  }
 ],
 "metadata": {
  "kernelspec": {
   "display_name": "base",
   "language": "python",
   "name": "python3"
  },
  "language_info": {
   "codemirror_mode": {
    "name": "ipython",
    "version": 3
   },
   "file_extension": ".py",
   "mimetype": "text/x-python",
   "name": "python",
   "nbconvert_exporter": "python",
   "pygments_lexer": "ipython3",
   "version": "3.9.23"
  }
 },
 "nbformat": 4,
 "nbformat_minor": 5
}
